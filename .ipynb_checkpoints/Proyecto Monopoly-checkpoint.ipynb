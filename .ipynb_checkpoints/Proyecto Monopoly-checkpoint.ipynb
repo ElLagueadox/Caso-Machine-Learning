{
 "cells": [
  {
   "cell_type": "code",
   "execution_count": null,
   "id": "17183368-30c9-4ae0-a17c-09012cb71881",
   "metadata": {},
   "outputs": [],
   "source": [
    "# Librerias importadas:\n",
    "# Pandas\n",
    "# Numpy"
   ]
  },
  {
   "cell_type": "code",
   "execution_count": null,
   "id": "d9bb91c6-71f0-4e39-bddb-f3cfce197d48",
   "metadata": {},
   "outputs": [],
   "source": [
    "import pandas as pd\n",
    "\n",
    "# Replace 'your_file.xlsx' with the path to your local Excel file\n",
    "df = pd.read_excel(r\"C:\\Users\\Lagueadox\\Desktop\\Program nsh\\Machine Learning\\Monopoly\\Base_clientes_Monopoly.xlsx\")"
   ]
  },
  {
   "cell_type": "code",
   "execution_count": null,
   "id": "01283cd0-274d-4bf8-999e-1fc56dcb2be7",
   "metadata": {},
   "outputs": [],
   "source": [
    "# Cantidad de filas x cantidad de columnas\n",
    "df.shape"
   ]
  },
  {
   "cell_type": "code",
   "execution_count": null,
   "id": "efd03688-1d51-4844-b576-459ada79592b",
   "metadata": {},
   "outputs": [],
   "source": [
    "# Vemos los tipos de datos\n",
    "df.info()"
   ]
  },
  {
   "cell_type": "code",
   "execution_count": null,
   "id": "74ee8b66-76d0-480a-bf63-cfa9e75247e2",
   "metadata": {},
   "outputs": [],
   "source": [
    "# Cantidad de columnas\n",
    "len(df.columns)\n",
    "# Columnas del data frame\n",
    "list(df.columns)\n",
    "\n",
    "print(\"Cantidad de columnas:\", len(df.columns))\n",
    "\n",
    "print(\"Columnas del data frame:\", list(df.columns))"
   ]
  },
  {
   "cell_type": "code",
   "execution_count": null,
   "id": "afc27439-3e33-4903-9241-620fc6ad10ac",
   "metadata": {},
   "outputs": [],
   "source": [
    "# Establecer la segunda fila como nombres de las columnas\n",
    "df.columns = df.iloc[0]\n",
    "\n",
    "# Eliminar la primera fila\n",
    "df = df.drop(0)\n",
    "\n",
    "# Resetear el índice para evitar un desorden al eliminar la fila\n",
    "df = df.reset_index(drop=True)\n",
    "\n",
    "# Mostrar las primeras filas del DataFrame corregido\n",
    "df.head()"
   ]
  },
  {
   "cell_type": "code",
   "execution_count": null,
   "id": "bc313ee7-37be-4594-92eb-49220072757a",
   "metadata": {},
   "outputs": [],
   "source": [
    "# Primeras 5 filas\n",
    "df.head()"
   ]
  },
  {
   "cell_type": "code",
   "execution_count": null,
   "id": "fcf1404a-3d32-4eae-baa5-b59d87a7a234",
   "metadata": {},
   "outputs": [],
   "source": [
    "# Ultimas 5 filas\n",
    "df.tail()"
   ]
  },
  {
   "cell_type": "code",
   "execution_count": null,
   "id": "bdc4f028-ce50-4826-b18a-879581dd05e4",
   "metadata": {},
   "outputs": [],
   "source": [
    "# Datos faltantes o nulos\n",
    "df.isna().sum()"
   ]
  },
  {
   "cell_type": "code",
   "execution_count": null,
   "id": "54a77f91-e29d-4303-902b-9cabdb44697a",
   "metadata": {},
   "outputs": [],
   "source": [
    "# Calculamos la moda de cada columna\n",
    "df.mode().iloc[0] #.iloc[0] se encarga de mostrar la primera moda en caso de que haya mas de una."
   ]
  },
  {
   "cell_type": "code",
   "execution_count": null,
   "id": "da079aa5-5e15-409a-ad78-a3fc075f0b44",
   "metadata": {},
   "outputs": [],
   "source": [
    "#Data set original\n",
    "Id = df.query('Id == 35824')\n",
    "print(Id)"
   ]
  }
 ],
 "metadata": {
  "kernelspec": {
   "display_name": "Python 3 (ipykernel)",
   "language": "python",
   "name": "python3"
  },
  "language_info": {
   "codemirror_mode": {
    "name": "ipython",
    "version": 3
   },
   "file_extension": ".py",
   "mimetype": "text/x-python",
   "name": "python",
   "nbconvert_exporter": "python",
   "pygments_lexer": "ipython3",
   "version": "3.12.4"
  }
 },
 "nbformat": 4,
 "nbformat_minor": 5
}
